{
 "cells": [
  {
   "cell_type": "markdown",
   "metadata": {
    "Collapsed": "false",
    "slideshow": {
     "slide_type": "slide"
    }
   },
   "source": [
    "<img src=\"https://upload.wikimedia.org/wikipedia/commons/4/47/Logo_UTFSM.png\" width=\"200\" alt=\"utfsm-logo\" align=\"left\"/>\n",
    "\n",
    "# MAT281\n",
    "### Aplicaciones de la Matemática en la Ingeniería"
   ]
  },
  {
   "cell_type": "markdown",
   "metadata": {
    "Collapsed": "false",
    "slideshow": {
     "slide_type": "slide"
    }
   },
   "source": [
    "## Módulo 04\n",
    "## Laboratorio Clase 06: Proyectos de Machine Learning"
   ]
  },
  {
   "cell_type": "markdown",
   "metadata": {
    "Collapsed": "false"
   },
   "source": [
    "### Instrucciones\n",
    "\n",
    "\n",
    "* Completa tus datos personales (nombre y rol USM) en siguiente celda.\n",
    "* La escala es de 0 a 4 considerando solo valores enteros.\n",
    "* Debes _pushear_ tus cambios a tu repositorio personal del curso.\n",
    "* Como respaldo, debes enviar un archivo .zip con el siguiente formato `mXX_cYY_lab_apellido_nombre.zip` a alonso.ogueda@gmail.com, debe contener todo lo necesario para que se ejecute correctamente cada celda, ya sea datos, imágenes, scripts, etc.\n",
    "* Se evaluará:\n",
    "    - Soluciones\n",
    "    - Código\n",
    "    - Que Binder esté bien configurado.\n",
    "    - Al presionar  `Kernel -> Restart Kernel and Run All Cells` deben ejecutarse todas las celdas sin error.\n",
    "* __La entrega es al final de esta clase.__"
   ]
  },
  {
   "cell_type": "markdown",
   "metadata": {
    "Collapsed": "false"
   },
   "source": [
    "__Nombre__: Ricardo Elías Ávalos Rojas\n",
    "\n",
    "__Rol__: 201403036-3"
   ]
  },
  {
   "cell_type": "markdown",
   "metadata": {
    "Collapsed": "false"
   },
   "source": [
    "## GapMinder"
   ]
  },
  {
   "cell_type": "code",
   "execution_count": 1,
   "metadata": {
    "Collapsed": "false"
   },
   "outputs": [],
   "source": [
    "import pandas as pd\n",
    "import altair as alt\n",
    "\n",
    "from vega_datasets import data\n",
    "\n",
    "alt.themes.enable('opaque')\n",
    "\n",
    "%matplotlib inline"
   ]
  },
  {
   "cell_type": "code",
   "execution_count": 2,
   "metadata": {
    "Collapsed": "false"
   },
   "outputs": [
    {
     "data": {
      "text/html": [
       "<div>\n",
       "<style scoped>\n",
       "    .dataframe tbody tr th:only-of-type {\n",
       "        vertical-align: middle;\n",
       "    }\n",
       "\n",
       "    .dataframe tbody tr th {\n",
       "        vertical-align: top;\n",
       "    }\n",
       "\n",
       "    .dataframe thead th {\n",
       "        text-align: right;\n",
       "    }\n",
       "</style>\n",
       "<table border=\"1\" class=\"dataframe\">\n",
       "  <thead>\n",
       "    <tr style=\"text-align: right;\">\n",
       "      <th></th>\n",
       "      <th>country</th>\n",
       "      <th>income</th>\n",
       "      <th>health</th>\n",
       "      <th>population</th>\n",
       "    </tr>\n",
       "  </thead>\n",
       "  <tbody>\n",
       "    <tr>\n",
       "      <td>0</td>\n",
       "      <td>Afghanistan</td>\n",
       "      <td>1925</td>\n",
       "      <td>57.63</td>\n",
       "      <td>32526562</td>\n",
       "    </tr>\n",
       "    <tr>\n",
       "      <td>1</td>\n",
       "      <td>Albania</td>\n",
       "      <td>10620</td>\n",
       "      <td>76.00</td>\n",
       "      <td>2896679</td>\n",
       "    </tr>\n",
       "    <tr>\n",
       "      <td>2</td>\n",
       "      <td>Algeria</td>\n",
       "      <td>13434</td>\n",
       "      <td>76.50</td>\n",
       "      <td>39666519</td>\n",
       "    </tr>\n",
       "    <tr>\n",
       "      <td>3</td>\n",
       "      <td>Andorra</td>\n",
       "      <td>46577</td>\n",
       "      <td>84.10</td>\n",
       "      <td>70473</td>\n",
       "    </tr>\n",
       "    <tr>\n",
       "      <td>4</td>\n",
       "      <td>Angola</td>\n",
       "      <td>7615</td>\n",
       "      <td>61.00</td>\n",
       "      <td>25021974</td>\n",
       "    </tr>\n",
       "  </tbody>\n",
       "</table>\n",
       "</div>"
      ],
      "text/plain": [
       "       country  income  health  population\n",
       "0  Afghanistan    1925   57.63    32526562\n",
       "1      Albania   10620   76.00     2896679\n",
       "2      Algeria   13434   76.50    39666519\n",
       "3      Andorra   46577   84.10       70473\n",
       "4       Angola    7615   61.00    25021974"
      ]
     },
     "execution_count": 2,
     "metadata": {},
     "output_type": "execute_result"
    }
   ],
   "source": [
    "gapminder = data.gapminder_health_income()\n",
    "gapminder.head()"
   ]
  },
  {
   "cell_type": "markdown",
   "metadata": {
    "Collapsed": "false"
   },
   "source": [
    "### 1. Análisis exploratorio (1 pto)\n",
    "\n",
    "Como mínimo, realizar un `describe` del dataframe y una visualización adecuada, una _scatter matrix_ con los valores numéricos."
   ]
  },
  {
   "cell_type": "code",
   "execution_count": 3,
   "metadata": {
    "Collapsed": "false"
   },
   "outputs": [
    {
     "data": {
      "text/html": [
       "<div>\n",
       "<style scoped>\n",
       "    .dataframe tbody tr th:only-of-type {\n",
       "        vertical-align: middle;\n",
       "    }\n",
       "\n",
       "    .dataframe tbody tr th {\n",
       "        vertical-align: top;\n",
       "    }\n",
       "\n",
       "    .dataframe thead th {\n",
       "        text-align: right;\n",
       "    }\n",
       "</style>\n",
       "<table border=\"1\" class=\"dataframe\">\n",
       "  <thead>\n",
       "    <tr style=\"text-align: right;\">\n",
       "      <th></th>\n",
       "      <th>count</th>\n",
       "      <th>mean</th>\n",
       "      <th>std</th>\n",
       "      <th>min</th>\n",
       "      <th>25%</th>\n",
       "      <th>50%</th>\n",
       "      <th>75%</th>\n",
       "      <th>max</th>\n",
       "    </tr>\n",
       "  </thead>\n",
       "  <tbody>\n",
       "    <tr>\n",
       "      <td>income</td>\n",
       "      <td>187.0</td>\n",
       "      <td>1.723224e+04</td>\n",
       "      <td>1.931063e+04</td>\n",
       "      <td>599.0</td>\n",
       "      <td>3585.5</td>\n",
       "      <td>10996.00</td>\n",
       "      <td>23834.0</td>\n",
       "      <td>1.328770e+05</td>\n",
       "    </tr>\n",
       "    <tr>\n",
       "      <td>health</td>\n",
       "      <td>187.0</td>\n",
       "      <td>7.167326e+01</td>\n",
       "      <td>7.748959e+00</td>\n",
       "      <td>48.5</td>\n",
       "      <td>65.5</td>\n",
       "      <td>73.13</td>\n",
       "      <td>77.7</td>\n",
       "      <td>8.410000e+01</td>\n",
       "    </tr>\n",
       "    <tr>\n",
       "      <td>population</td>\n",
       "      <td>187.0</td>\n",
       "      <td>3.908887e+07</td>\n",
       "      <td>1.432898e+08</td>\n",
       "      <td>52993.0</td>\n",
       "      <td>2248920.0</td>\n",
       "      <td>8544586.00</td>\n",
       "      <td>27693878.0</td>\n",
       "      <td>1.376049e+09</td>\n",
       "    </tr>\n",
       "  </tbody>\n",
       "</table>\n",
       "</div>"
      ],
      "text/plain": [
       "            count          mean           std      min        25%         50%  \\\n",
       "income      187.0  1.723224e+04  1.931063e+04    599.0     3585.5    10996.00   \n",
       "health      187.0  7.167326e+01  7.748959e+00     48.5       65.5       73.13   \n",
       "population  187.0  3.908887e+07  1.432898e+08  52993.0  2248920.0  8544586.00   \n",
       "\n",
       "                   75%           max  \n",
       "income         23834.0  1.328770e+05  \n",
       "health            77.7  8.410000e+01  \n",
       "population  27693878.0  1.376049e+09  "
      ]
     },
     "execution_count": 3,
     "metadata": {},
     "output_type": "execute_result"
    }
   ],
   "source": [
    "gapminder.describe().T"
   ]
  },
  {
   "cell_type": "code",
   "execution_count": 16,
   "metadata": {
    "Collapsed": "false"
   },
   "outputs": [
    {
     "data": {
      "text/html": [
       "<div>\n",
       "<style scoped>\n",
       "    .dataframe tbody tr th:only-of-type {\n",
       "        vertical-align: middle;\n",
       "    }\n",
       "\n",
       "    .dataframe tbody tr th {\n",
       "        vertical-align: top;\n",
       "    }\n",
       "\n",
       "    .dataframe thead th {\n",
       "        text-align: right;\n",
       "    }\n",
       "</style>\n",
       "<table border=\"1\" class=\"dataframe\">\n",
       "  <thead>\n",
       "    <tr style=\"text-align: right;\">\n",
       "      <th></th>\n",
       "      <th>country</th>\n",
       "      <th>ingreso</th>\n",
       "      <th>salud</th>\n",
       "      <th>poblacion</th>\n",
       "    </tr>\n",
       "  </thead>\n",
       "  <tbody>\n",
       "    <tr>\n",
       "      <td>0</td>\n",
       "      <td>Afghanistan</td>\n",
       "      <td>1925</td>\n",
       "      <td>57.63</td>\n",
       "      <td>32526562</td>\n",
       "    </tr>\n",
       "    <tr>\n",
       "      <td>1</td>\n",
       "      <td>Albania</td>\n",
       "      <td>10620</td>\n",
       "      <td>76.00</td>\n",
       "      <td>2896679</td>\n",
       "    </tr>\n",
       "    <tr>\n",
       "      <td>2</td>\n",
       "      <td>Algeria</td>\n",
       "      <td>13434</td>\n",
       "      <td>76.50</td>\n",
       "      <td>39666519</td>\n",
       "    </tr>\n",
       "    <tr>\n",
       "      <td>3</td>\n",
       "      <td>Andorra</td>\n",
       "      <td>46577</td>\n",
       "      <td>84.10</td>\n",
       "      <td>70473</td>\n",
       "    </tr>\n",
       "    <tr>\n",
       "      <td>4</td>\n",
       "      <td>Angola</td>\n",
       "      <td>7615</td>\n",
       "      <td>61.00</td>\n",
       "      <td>25021974</td>\n",
       "    </tr>\n",
       "  </tbody>\n",
       "</table>\n",
       "</div>"
      ],
      "text/plain": [
       "       country  ingreso  salud  poblacion\n",
       "0  Afghanistan     1925  57.63   32526562\n",
       "1      Albania    10620  76.00    2896679\n",
       "2      Algeria    13434  76.50   39666519\n",
       "3      Andorra    46577  84.10      70473\n",
       "4       Angola     7615  61.00   25021974"
      ]
     },
     "execution_count": 16,
     "metadata": {},
     "output_type": "execute_result"
    }
   ],
   "source": [
    "# gapminder_graficable=gapminder.copy() #Recuerdo que en la ultima clase dijo que le cambiaramos los nombres a los ejes si que para eso es esto\n",
    "#Finalmente nada de esto era necesario, porque nunca piden datos para esto.\n",
    "\n",
    "# gapminder_graficable.rename(columns={'income': 'ingreso', 'health': 'salud', 'population':'poblacion'}, inplace=True) \n",
    "# gapminder_graficable.head()\n",
    "\n",
    "gapminder.rename(columns={'income': 'ingreso', 'health': 'salud', 'population':'poblacion'}, inplace=True) \n",
    "gapminder.head()"
   ]
  },
  {
   "cell_type": "code",
   "execution_count": 17,
   "metadata": {
    "Collapsed": "false"
   },
   "outputs": [
    {
     "data": {
      "application/vnd.vegalite.v3+json": {
       "$schema": "https://vega.github.io/schema/vega-lite/v3.4.0.json",
       "config": {
        "background": "white",
        "mark": {
         "tooltip": null
        },
        "view": {
         "height": 300,
         "width": 400
        }
       },
       "datasets": {
        "data-6e513b66e01b1345285b705d0b879c42": [
         {
          "country": "Afghanistan",
          "ingreso": 1925,
          "poblacion": 32526562,
          "salud": 57.63
         },
         {
          "country": "Albania",
          "ingreso": 10620,
          "poblacion": 2896679,
          "salud": 76
         },
         {
          "country": "Algeria",
          "ingreso": 13434,
          "poblacion": 39666519,
          "salud": 76.5
         },
         {
          "country": "Andorra",
          "ingreso": 46577,
          "poblacion": 70473,
          "salud": 84.1
         },
         {
          "country": "Angola",
          "ingreso": 7615,
          "poblacion": 25021974,
          "salud": 61
         },
         {
          "country": "Antigua and Barbuda",
          "ingreso": 21049,
          "poblacion": 91818,
          "salud": 75.2
         },
         {
          "country": "Argentina",
          "ingreso": 17344,
          "poblacion": 43416755,
          "salud": 76.2
         },
         {
          "country": "Armenia",
          "ingreso": 7763,
          "poblacion": 3017712,
          "salud": 74.4
         },
         {
          "country": "Australia",
          "ingreso": 44056,
          "poblacion": 23968973,
          "salud": 81.8
         },
         {
          "country": "Austria",
          "ingreso": 44401,
          "poblacion": 8544586,
          "salud": 81
         },
         {
          "country": "Azerbaijan",
          "ingreso": 16986,
          "poblacion": 9753968,
          "salud": 72.9
         },
         {
          "country": "Bahamas",
          "ingreso": 22818,
          "poblacion": 388019,
          "salud": 72.3
         },
         {
          "country": "Bahrain",
          "ingreso": 44138,
          "poblacion": 1377237,
          "salud": 79.2
         },
         {
          "country": "Bangladesh",
          "ingreso": 3161,
          "poblacion": 160995642,
          "salud": 70.1
         },
         {
          "country": "Barbados",
          "ingreso": 12984,
          "poblacion": 284215,
          "salud": 75.8
         },
         {
          "country": "Belarus",
          "ingreso": 17415,
          "poblacion": 9495826,
          "salud": 70.4
         },
         {
          "country": "Belgium",
          "ingreso": 41240,
          "poblacion": 11299192,
          "salud": 80.4
         },
         {
          "country": "Belize",
          "ingreso": 8501,
          "poblacion": 359287,
          "salud": 70
         },
         {
          "country": "Benin",
          "ingreso": 1830,
          "poblacion": 10879829,
          "salud": 65.5
         },
         {
          "country": "Bhutan",
          "ingreso": 7983,
          "poblacion": 774830,
          "salud": 70.2
         },
         {
          "country": "Bolivia",
          "ingreso": 6295,
          "poblacion": 10724705,
          "salud": 72.3
         },
         {
          "country": "Bosnia and Herzegovina",
          "ingreso": 9833,
          "poblacion": 3810416,
          "salud": 77.9
         },
         {
          "country": "Botswana",
          "ingreso": 17196,
          "poblacion": 2262485,
          "salud": 66.4
         },
         {
          "country": "Brazil",
          "ingreso": 15441,
          "poblacion": 207847528,
          "salud": 75.6
         },
         {
          "country": "Brunei",
          "ingreso": 73003,
          "poblacion": 423188,
          "salud": 78.7
         },
         {
          "country": "Bulgaria",
          "ingreso": 16371,
          "poblacion": 7149787,
          "salud": 74.9
         },
         {
          "country": "Burkina Faso",
          "ingreso": 1654,
          "poblacion": 18105570,
          "salud": 62.8
         },
         {
          "country": "Burundi",
          "ingreso": 777,
          "poblacion": 11178921,
          "salud": 60.4
         },
         {
          "country": "Cambodia",
          "ingreso": 3267,
          "poblacion": 15577899,
          "salud": 68.4
         },
         {
          "country": "Cameroon",
          "ingreso": 2897,
          "poblacion": 23344179,
          "salud": 59.5
         },
         {
          "country": "Canada",
          "ingreso": 43294,
          "poblacion": 35939927,
          "salud": 81.7
         },
         {
          "country": "Cape Verde",
          "ingreso": 6514,
          "poblacion": 520502,
          "salud": 74.6
         },
         {
          "country": "Central African Republic",
          "ingreso": 599,
          "poblacion": 4900274,
          "salud": 53.8
         },
         {
          "country": "Chad",
          "ingreso": 2191,
          "poblacion": 14037472,
          "salud": 57.7
         },
         {
          "country": "Chile",
          "ingreso": 22465,
          "poblacion": 17948141,
          "salud": 79.3
         },
         {
          "country": "China",
          "ingreso": 13334,
          "poblacion": 1376048943,
          "salud": 76.9
         },
         {
          "country": "Colombia",
          "ingreso": 12761,
          "poblacion": 48228704,
          "salud": 75.8
         },
         {
          "country": "Comoros",
          "ingreso": 1472,
          "poblacion": 788474,
          "salud": 64.1
         },
         {
          "country": "Congo, Dem. Rep.",
          "ingreso": 809,
          "poblacion": 77266814,
          "salud": 58.3
         },
         {
          "country": "Congo, Rep.",
          "ingreso": 6220,
          "poblacion": 4620330,
          "salud": 61.9
         },
         {
          "country": "Costa Rica",
          "ingreso": 14132,
          "poblacion": 4807850,
          "salud": 80
         },
         {
          "country": "Cote d'Ivoire",
          "ingreso": 3491,
          "poblacion": 22701556,
          "salud": 60.33
         },
         {
          "country": "Croatia",
          "ingreso": 20260,
          "poblacion": 4240317,
          "salud": 78
         },
         {
          "country": "Cuba",
          "ingreso": 21291,
          "poblacion": 11389562,
          "salud": 78.5
         },
         {
          "country": "Cyprus",
          "ingreso": 29797,
          "poblacion": 1165300,
          "salud": 82.6
         },
         {
          "country": "Czech Republic",
          "ingreso": 29437,
          "poblacion": 10543186,
          "salud": 78.6
         },
         {
          "country": "Denmark",
          "ingreso": 43495,
          "poblacion": 5669081,
          "salud": 80.1
         },
         {
          "country": "Djibouti",
          "ingreso": 3139,
          "poblacion": 887861,
          "salud": 64.63
         },
         {
          "country": "Dominica",
          "ingreso": 10503,
          "poblacion": 72680,
          "salud": 74.6
         },
         {
          "country": "Dominican Republic",
          "ingreso": 12837,
          "poblacion": 10528391,
          "salud": 73.8
         },
         {
          "country": "Ecuador",
          "ingreso": 10996,
          "poblacion": 16144363,
          "salud": 75.2
         },
         {
          "country": "Egypt",
          "ingreso": 11031,
          "poblacion": 91508084,
          "salud": 71.3
         },
         {
          "country": "El Salvador",
          "ingreso": 7776,
          "poblacion": 6126583,
          "salud": 74.1
         },
         {
          "country": "Equatorial Guinea",
          "ingreso": 31087,
          "poblacion": 845060,
          "salud": 60.63
         },
         {
          "country": "Eritrea",
          "ingreso": 1129,
          "poblacion": 5227791,
          "salud": 62.9
         },
         {
          "country": "Estonia",
          "ingreso": 26812,
          "poblacion": 1312558,
          "salud": 76.8
         },
         {
          "country": "Ethiopia",
          "ingreso": 1520,
          "poblacion": 99390750,
          "salud": 63.6
         },
         {
          "country": "Fiji",
          "ingreso": 7925,
          "poblacion": 892145,
          "salud": 66.3
         },
         {
          "country": "Finland",
          "ingreso": 38923,
          "poblacion": 5503457,
          "salud": 80.8
         },
         {
          "country": "France",
          "ingreso": 37599,
          "poblacion": 64395345,
          "salud": 81.9
         },
         {
          "country": "Gabon",
          "ingreso": 18627,
          "poblacion": 1725292,
          "salud": 60.53
         },
         {
          "country": "Gambia",
          "ingreso": 1644,
          "poblacion": 1990924,
          "salud": 65.1
         },
         {
          "country": "Georgia",
          "ingreso": 7474,
          "poblacion": 3999812,
          "salud": 73.3
         },
         {
          "country": "Germany",
          "ingreso": 44053,
          "poblacion": 80688545,
          "salud": 81.1
         },
         {
          "country": "Ghana",
          "ingreso": 4099,
          "poblacion": 27409893,
          "salud": 65.5
         },
         {
          "country": "Greece",
          "ingreso": 25430,
          "poblacion": 10954617,
          "salud": 79.8
         },
         {
          "country": "Grenada",
          "ingreso": 11593,
          "poblacion": 106825,
          "salud": 71.7
         },
         {
          "country": "Guatemala",
          "ingreso": 7279,
          "poblacion": 16342897,
          "salud": 73.1
         },
         {
          "country": "Guinea",
          "ingreso": 1225,
          "poblacion": 12608590,
          "salud": 60.8
         },
         {
          "country": "Guinea-Bissau",
          "ingreso": 1386,
          "poblacion": 1844325,
          "salud": 53.4
         },
         {
          "country": "Guyana",
          "ingreso": 6816,
          "poblacion": 767085,
          "salud": 64.4
         },
         {
          "country": "Haiti",
          "ingreso": 1710,
          "poblacion": 10711067,
          "salud": 65.3
         },
         {
          "country": "Honduras",
          "ingreso": 4270,
          "poblacion": 8075060,
          "salud": 72.4
         },
         {
          "country": "Hungary",
          "ingreso": 24200,
          "poblacion": 9855023,
          "salud": 76.2
         },
         {
          "country": "Iceland",
          "ingreso": 42182,
          "poblacion": 329425,
          "salud": 82.8
         },
         {
          "country": "India",
          "ingreso": 5903,
          "poblacion": 1311050527,
          "salud": 66.8
         },
         {
          "country": "Indonesia",
          "ingreso": 10504,
          "poblacion": 257563815,
          "salud": 70.9
         },
         {
          "country": "Iran",
          "ingreso": 15573,
          "poblacion": 79109272,
          "salud": 78.5
         },
         {
          "country": "Iraq",
          "ingreso": 14646,
          "poblacion": 36423395,
          "salud": 72.1
         },
         {
          "country": "Ireland",
          "ingreso": 47758,
          "poblacion": 4688465,
          "salud": 80.4
         },
         {
          "country": "Israel",
          "ingreso": 31590,
          "poblacion": 8064036,
          "salud": 82.4
         },
         {
          "country": "Italy",
          "ingreso": 33297,
          "poblacion": 59797685,
          "salud": 82.1
         },
         {
          "country": "Jamaica",
          "ingreso": 8606,
          "poblacion": 2793335,
          "salud": 75.5
         },
         {
          "country": "Japan",
          "ingreso": 36162,
          "poblacion": 126573481,
          "salud": 83.5
         },
         {
          "country": "Jordan",
          "ingreso": 11752,
          "poblacion": 7594547,
          "salud": 78.3
         },
         {
          "country": "Kazakhstan",
          "ingreso": 23468,
          "poblacion": 17625226,
          "salud": 68.2
         },
         {
          "country": "Kenya",
          "ingreso": 2898,
          "poblacion": 46050302,
          "salud": 66.63
         },
         {
          "country": "Kiribati",
          "ingreso": 1824,
          "poblacion": 112423,
          "salud": 62.4
         },
         {
          "country": "Kuwait",
          "ingreso": 82633,
          "poblacion": 3892115,
          "salud": 80.7
         },
         {
          "country": "Kyrgyz Republic",
          "ingreso": 3245,
          "poblacion": 5939962,
          "salud": 69
         },
         {
          "country": "Lao",
          "ingreso": 5212,
          "poblacion": 6802023,
          "salud": 66.4
         },
         {
          "country": "Latvia",
          "ingreso": 23282,
          "poblacion": 1970503,
          "salud": 75.7
         },
         {
          "country": "Lebanon",
          "ingreso": 17050,
          "poblacion": 5850743,
          "salud": 78.5
         },
         {
          "country": "Lesotho",
          "ingreso": 2598,
          "poblacion": 2135022,
          "salud": 48.5
         },
         {
          "country": "Liberia",
          "ingreso": 958,
          "poblacion": 4503438,
          "salud": 63.9
         },
         {
          "country": "Libya",
          "ingreso": 17261,
          "poblacion": 6278438,
          "salud": 76.2
         },
         {
          "country": "Lithuania",
          "ingreso": 26665,
          "poblacion": 2878405,
          "salud": 75.4
         },
         {
          "country": "Luxembourg",
          "ingreso": 88314,
          "poblacion": 567110,
          "salud": 81.1
         },
         {
          "country": "Macedonia, FYR",
          "ingreso": 12547,
          "poblacion": 2078453,
          "salud": 77
         },
         {
          "country": "Madagascar",
          "ingreso": 1400,
          "poblacion": 24235390,
          "salud": 64.7
         },
         {
          "country": "Malawi",
          "ingreso": 799,
          "poblacion": 17215232,
          "salud": 60.22
         },
         {
          "country": "Malaysia",
          "ingreso": 24320,
          "poblacion": 30331007,
          "salud": 75.1
         },
         {
          "country": "Maldives",
          "ingreso": 14408,
          "poblacion": 363657,
          "salud": 79.5
         },
         {
          "country": "Mali",
          "ingreso": 1684,
          "poblacion": 17599694,
          "salud": 57.6
         },
         {
          "country": "Malta",
          "ingreso": 30265,
          "poblacion": 418670,
          "salud": 82.1
         },
         {
          "country": "Marshall Islands",
          "ingreso": 3661,
          "poblacion": 52993,
          "salud": 65.1
         },
         {
          "country": "Mauritania",
          "ingreso": 3877,
          "poblacion": 4067564,
          "salud": 65.7
         },
         {
          "country": "Mauritius",
          "ingreso": 18350,
          "poblacion": 1273212,
          "salud": 73.9
         },
         {
          "country": "Mexico",
          "ingreso": 16850,
          "poblacion": 127017224,
          "salud": 74.5
         },
         {
          "country": "Micronesia, Fed. Sts.",
          "ingreso": 3510,
          "poblacion": 104460,
          "salud": 67
         },
         {
          "country": "Moldova",
          "ingreso": 4896,
          "poblacion": 4068897,
          "salud": 72.7
         },
         {
          "country": "Mongolia",
          "ingreso": 11819,
          "poblacion": 2959134,
          "salud": 65.3
         },
         {
          "country": "Montenegro",
          "ingreso": 14833,
          "poblacion": 625781,
          "salud": 75.8
         },
         {
          "country": "Morocco",
          "ingreso": 7319,
          "poblacion": 34377511,
          "salud": 74.7
         },
         {
          "country": "Mozambique",
          "ingreso": 1176,
          "poblacion": 27977863,
          "salud": 56.4
         },
         {
          "country": "Myanmar",
          "ingreso": 4012,
          "poblacion": 53897154,
          "salud": 67.9
         },
         {
          "country": "Namibia",
          "ingreso": 10040,
          "poblacion": 2458830,
          "salud": 61
         },
         {
          "country": "Nepal",
          "ingreso": 2352,
          "poblacion": 28513700,
          "salud": 71.2
         },
         {
          "country": "Netherlands",
          "ingreso": 45784,
          "poblacion": 16924929,
          "salud": 80.6
         },
         {
          "country": "New Zealand",
          "ingreso": 34186,
          "poblacion": 4528526,
          "salud": 80.6
         },
         {
          "country": "Nicaragua",
          "ingreso": 4712,
          "poblacion": 6082032,
          "salud": 76.8
         },
         {
          "country": "Niger",
          "ingreso": 943,
          "poblacion": 19899120,
          "salud": 62.2
         },
         {
          "country": "Nigeria",
          "ingreso": 5727,
          "poblacion": 182201962,
          "salud": 61.33
         },
         {
          "country": "North Korea",
          "ingreso": 1390,
          "poblacion": 25155317,
          "salud": 71.4
         },
         {
          "country": "Norway",
          "ingreso": 64304,
          "poblacion": 5210967,
          "salud": 81.6
         },
         {
          "country": "Oman",
          "ingreso": 48226,
          "poblacion": 4490541,
          "salud": 75.7
         },
         {
          "country": "Pakistan",
          "ingreso": 4743,
          "poblacion": 188924874,
          "salud": 66.5
         },
         {
          "country": "Panama",
          "ingreso": 20485,
          "poblacion": 3929141,
          "salud": 78.2
         },
         {
          "country": "Papua New Guinea",
          "ingreso": 2529,
          "poblacion": 7619321,
          "salud": 60.6
         },
         {
          "country": "Paraguay",
          "ingreso": 8219,
          "poblacion": 6639123,
          "salud": 73.9
         },
         {
          "country": "Peru",
          "ingreso": 11903,
          "poblacion": 31376670,
          "salud": 77.5
         },
         {
          "country": "Philippines",
          "ingreso": 6876,
          "poblacion": 100699395,
          "salud": 70.2
         },
         {
          "country": "Poland",
          "ingreso": 24787,
          "poblacion": 38611794,
          "salud": 77.3
         },
         {
          "country": "Portugal",
          "ingreso": 26437,
          "poblacion": 10349803,
          "salud": 79.8
         },
         {
          "country": "Qatar",
          "ingreso": 132877,
          "poblacion": 2235355,
          "salud": 82
         },
         {
          "country": "Romania",
          "ingreso": 19203,
          "poblacion": 19511324,
          "salud": 76.8
         },
         {
          "country": "Russia",
          "ingreso": 23038,
          "poblacion": 143456918,
          "salud": 73.13
         },
         {
          "country": "Rwanda",
          "ingreso": 1549,
          "poblacion": 11609666,
          "salud": 66.53
         },
         {
          "country": "Samoa",
          "ingreso": 5558,
          "poblacion": 193228,
          "salud": 72.2
         },
         {
          "country": "Sao Tome and Principe",
          "ingreso": 3003,
          "poblacion": 190344,
          "salud": 68.8
         },
         {
          "country": "Saudi Arabia",
          "ingreso": 52469,
          "poblacion": 31540372,
          "salud": 78.1
         },
         {
          "country": "Senegal",
          "ingreso": 2251,
          "poblacion": 15129273,
          "salud": 66.1
         },
         {
          "country": "Serbia",
          "ingreso": 12908,
          "poblacion": 8850975,
          "salud": 78.1
         },
         {
          "country": "Seychelles",
          "ingreso": 25684,
          "poblacion": 96471,
          "salud": 73.7
         },
         {
          "country": "Sierra Leone",
          "ingreso": 2085,
          "poblacion": 6453184,
          "salud": 58.5
         },
         {
          "country": "Singapore",
          "ingreso": 80794,
          "poblacion": 5603740,
          "salud": 82.1
         },
         {
          "country": "Slovak Republic",
          "ingreso": 27204,
          "poblacion": 5426258,
          "salud": 76.4
         },
         {
          "country": "Slovenia",
          "ingreso": 28550,
          "poblacion": 2067526,
          "salud": 80.2
         },
         {
          "country": "Solomon Islands",
          "ingreso": 2047,
          "poblacion": 583591,
          "salud": 64.1
         },
         {
          "country": "Somalia",
          "ingreso": 624,
          "poblacion": 10787104,
          "salud": 58.7
         },
         {
          "country": "South Africa",
          "ingreso": 12509,
          "poblacion": 54490406,
          "salud": 63.72
         },
         {
          "country": "South Korea",
          "ingreso": 34644,
          "poblacion": 50293439,
          "salud": 80.7
         },
         {
          "country": "South Sudan",
          "ingreso": 3047,
          "poblacion": 12339812,
          "salud": 58
         },
         {
          "country": "Spain",
          "ingreso": 32979,
          "poblacion": 46121699,
          "salud": 81.7
         },
         {
          "country": "Sri Lanka",
          "ingreso": 10624,
          "poblacion": 20715010,
          "salud": 76.5
         },
         {
          "country": "St. Lucia",
          "ingreso": 9997,
          "poblacion": 184999,
          "salud": 74.5
         },
         {
          "country": "St. Vincent and the Grenadines",
          "ingreso": 10435,
          "poblacion": 109462,
          "salud": 72.9
         },
         {
          "country": "Sudan",
          "ingreso": 3975,
          "poblacion": 40234882,
          "salud": 69.5
         },
         {
          "country": "Suriname",
          "ingreso": 17125,
          "poblacion": 542975,
          "salud": 70.5
         },
         {
          "country": "Swaziland",
          "ingreso": 6095,
          "poblacion": 1286970,
          "salud": 51.5
         },
         {
          "country": "Sweden",
          "ingreso": 44892,
          "poblacion": 9779426,
          "salud": 82
         },
         {
          "country": "Switzerland",
          "ingreso": 56118,
          "poblacion": 8298663,
          "salud": 82.9
         },
         {
          "country": "Syria",
          "ingreso": 4637,
          "poblacion": 18502413,
          "salud": 70.26
         },
         {
          "country": "Tajikistan",
          "ingreso": 2582,
          "poblacion": 8481855,
          "salud": 71
         },
         {
          "country": "Tanzania",
          "ingreso": 2571,
          "poblacion": 53470420,
          "salud": 63.43
         },
         {
          "country": "Thailand",
          "ingreso": 14512,
          "poblacion": 67959359,
          "salud": 75.1
         },
         {
          "country": "Timor-Leste",
          "ingreso": 2086,
          "poblacion": 1184765,
          "salud": 72.4
         },
         {
          "country": "Togo",
          "ingreso": 1433,
          "poblacion": 7304578,
          "salud": 64.23
         },
         {
          "country": "Tonga",
          "ingreso": 5069,
          "poblacion": 106170,
          "salud": 70.5
         },
         {
          "country": "Trinidad and Tobago",
          "ingreso": 30113,
          "poblacion": 1360088,
          "salud": 71.4
         },
         {
          "country": "Tunisia",
          "ingreso": 11126,
          "poblacion": 11253554,
          "salud": 77.3
         },
         {
          "country": "Turkey",
          "ingreso": 19360,
          "poblacion": 78665830,
          "salud": 76.5
         },
         {
          "country": "Turkmenistan",
          "ingreso": 15865,
          "poblacion": 5373502,
          "salud": 67.9
         },
         {
          "country": "Uganda",
          "ingreso": 1680,
          "poblacion": 39032383,
          "salud": 60.8
         },
         {
          "country": "Ukraine",
          "ingreso": 8449,
          "poblacion": 44823765,
          "salud": 72.1
         },
         {
          "country": "United Arab Emirates",
          "ingreso": 60749,
          "poblacion": 9156963,
          "salud": 76.6
         },
         {
          "country": "United Kingdom",
          "ingreso": 38225,
          "poblacion": 64715810,
          "salud": 81.4
         },
         {
          "country": "United States",
          "ingreso": 53354,
          "poblacion": 321773631,
          "salud": 79.1
         },
         {
          "country": "Uruguay",
          "ingreso": 20438,
          "poblacion": 3431555,
          "salud": 77.3
         },
         {
          "country": "Uzbekistan",
          "ingreso": 5598,
          "poblacion": 29893488,
          "salud": 70.1
         },
         {
          "country": "Vanuatu",
          "ingreso": 2912,
          "poblacion": 264652,
          "salud": 65
         },
         {
          "country": "Venezuela",
          "ingreso": 15753,
          "poblacion": 31108083,
          "salud": 75.8
         },
         {
          "country": "Vietnam",
          "ingreso": 5623,
          "poblacion": 93447601,
          "salud": 76.5
         },
         {
          "country": "West Bank and Gaza",
          "ingreso": 4319,
          "poblacion": 4668466,
          "salud": 75.2
         },
         {
          "country": "Yemen",
          "ingreso": 3887,
          "poblacion": 26832215,
          "salud": 67.6
         },
         {
          "country": "Zambia",
          "ingreso": 4034,
          "poblacion": 16211767,
          "salud": 58.96
         },
         {
          "country": "Zimbabwe",
          "ingreso": 1801,
          "poblacion": 15602751,
          "salud": 60.01
         }
        ]
       },
       "repeat": {
        "column": [
         "ingreso",
         "salud",
         "poblacion"
        ],
        "row": [
         "ingreso",
         "salud",
         "poblacion"
        ]
       },
       "spec": {
        "data": {
         "name": "data-6e513b66e01b1345285b705d0b879c42"
        },
        "encoding": {
         "x": {
          "field": {
           "repeat": "column"
          },
          "type": "quantitative"
         },
         "y": {
          "field": {
           "repeat": "row"
          },
          "type": "quantitative"
         }
        },
        "height": 150,
        "mark": "circle",
        "width": 150
       }
      },
      "image/png": "[encoded data removed]",
      "text/plain": [
       "<VegaLite 3 object>\n",
       "\n",
       "If you see this message, it means the renderer has not been properly enabled\n",
       "for the frontend that you are using. For more information, see\n",
       "https://altair-viz.github.io/user_guide/troubleshooting.html\n"
      ]
     },
     "execution_count": 17,
     "metadata": {},
     "output_type": "execute_result"
    }
   ],
   "source": [
    "alt.Chart(gapminder).mark_circle().encode(\n",
    "    alt.X(alt.repeat(\"column\"), type='quantitative'),\n",
    "    alt.Y(alt.repeat(\"row\"), type='quantitative')\n",
    ").properties(\n",
    "width=150 , \n",
    "    height=150\n",
    ").repeat(\n",
    "    row=[\"ingreso\",\"salud\",\"poblacion\"],\n",
    "    column=[\"ingreso\",\"salud\",\"poblacion\"]\n",
    ")"
   ]
  },
  {
   "cell_type": "markdown",
   "metadata": {
    "Collapsed": "false"
   },
   "source": [
    "### 2. Preprocesamiento (1 pto)"
   ]
  },
  {
   "cell_type": "markdown",
   "metadata": {
    "Collapsed": "false"
   },
   "source": [
    "Aplicar un escalamiento a los datos antes de aplicar nuestro algoritmo de clustering. Para ello, definir la variable `X_raw` que corresponde a un `numpy.array` con los valores del dataframe `gapminder` en las columnas _income_, _health_ y  _population_. Luego, definir la variable `X` que deben ser los datos escalados de `X_raw`."
   ]
  },
  {
   "cell_type": "code",
   "execution_count": 8,
   "metadata": {
    "Collapsed": "false"
   },
   "outputs": [],
   "source": [
    "from sklearn.preprocessing import StandardScaler\n",
    "import numpy as np"
   ]
  },
  {
   "cell_type": "code",
   "execution_count": 18,
   "metadata": {
    "Collapsed": "false"
   },
   "outputs": [],
   "source": [
    "X_raw = np.array(gapminder[[\"ingreso\",\"salud\",\"poblacion\"]])\n",
    "X = StandardScaler().fit_transform(X_raw)"
   ]
  },
  {
   "cell_type": "markdown",
   "metadata": {
    "Collapsed": "false"
   },
   "source": [
    "### 3. Clustering (1 pto)"
   ]
  },
  {
   "cell_type": "code",
   "execution_count": 19,
   "metadata": {
    "Collapsed": "false"
   },
   "outputs": [],
   "source": [
    "from sklearn.cluster import KMeans"
   ]
  },
  {
   "cell_type": "markdown",
   "metadata": {
    "Collapsed": "false"
   },
   "source": [
    "Definir un _estimator_ `KMeans` con `k=3` y `random_state=42`, luego ajustar con `X` y finalmente, agregar los _labels_ obtenidos a una nueva columna del dataframe `gapminder` llamada `cluster`. Finalmente, realizar el mismo gráfico del principio pero coloreado por los clusters obtenidos.\n",
    "\n"
   ]
  },
  {
   "cell_type": "code",
   "execution_count": 24,
   "metadata": {
    "Collapsed": "false"
   },
   "outputs": [],
   "source": [
    "k = 3\n",
    "kmeans =KMeans(n_clusters=k, random_state=42)\n",
    "kmeans.fit(X)\n",
    "clusters = kmeans.labels_\n",
    "gapminder=gapminder.assign(cluster=clusters)"
   ]
  },
  {
   "cell_type": "code",
   "execution_count": 25,
   "metadata": {
    "Collapsed": "false"
   },
   "outputs": [
    {
     "data": {
      "application/vnd.vegalite.v3+json": {
       "$schema": "https://vega.github.io/schema/vega-lite/v3.4.0.json",
       "config": {
        "background": "white",
        "mark": {
         "tooltip": null
        },
        "view": {
         "height": 300,
         "width": 400
        }
       },
       "datasets": {
        "data-faedab3646c4ecf5880a17f5ec0c23d7": [
         {
          "cluster": 1,
          "country": "Afghanistan",
          "ingreso": 1925,
          "poblacion": 32526562,
          "salud": 57.63
         },
         {
          "cluster": 0,
          "country": "Albania",
          "ingreso": 10620,
          "poblacion": 2896679,
          "salud": 76
         },
         {
          "cluster": 0,
          "country": "Algeria",
          "ingreso": 13434,
          "poblacion": 39666519,
          "salud": 76.5
         },
         {
          "cluster": 0,
          "country": "Andorra",
          "ingreso": 46577,
          "poblacion": 70473,
          "salud": 84.1
         },
         {
          "cluster": 1,
          "country": "Angola",
          "ingreso": 7615,
          "poblacion": 25021974,
          "salud": 61
         },
         {
          "cluster": 0,
          "country": "Antigua and Barbuda",
          "ingreso": 21049,
          "poblacion": 91818,
          "salud": 75.2
         },
         {
          "cluster": 0,
          "country": "Argentina",
          "ingreso": 17344,
          "poblacion": 43416755,
          "salud": 76.2
         },
         {
          "cluster": 1,
          "country": "Armenia",
          "ingreso": 7763,
          "poblacion": 3017712,
          "salud": 74.4
         },
         {
          "cluster": 0,
          "country": "Australia",
          "ingreso": 44056,
          "poblacion": 23968973,
          "salud": 81.8
         },
         {
          "cluster": 0,
          "country": "Austria",
          "ingreso": 44401,
          "poblacion": 8544586,
          "salud": 81
         },
         {
          "cluster": 0,
          "country": "Azerbaijan",
          "ingreso": 16986,
          "poblacion": 9753968,
          "salud": 72.9
         },
         {
          "cluster": 0,
          "country": "Bahamas",
          "ingreso": 22818,
          "poblacion": 388019,
          "salud": 72.3
         },
         {
          "cluster": 0,
          "country": "Bahrain",
          "ingreso": 44138,
          "poblacion": 1377237,
          "salud": 79.2
         },
         {
          "cluster": 1,
          "country": "Bangladesh",
          "ingreso": 3161,
          "poblacion": 160995642,
          "salud": 70.1
         },
         {
          "cluster": 0,
          "country": "Barbados",
          "ingreso": 12984,
          "poblacion": 284215,
          "salud": 75.8
         },
         {
          "cluster": 1,
          "country": "Belarus",
          "ingreso": 17415,
          "poblacion": 9495826,
          "salud": 70.4
         },
         {
          "cluster": 0,
          "country": "Belgium",
          "ingreso": 41240,
          "poblacion": 11299192,
          "salud": 80.4
         },
         {
          "cluster": 1,
          "country": "Belize",
          "ingreso": 8501,
          "poblacion": 359287,
          "salud": 70
         },
         {
          "cluster": 1,
          "country": "Benin",
          "ingreso": 1830,
          "poblacion": 10879829,
          "salud": 65.5
         },
         {
          "cluster": 1,
          "country": "Bhutan",
          "ingreso": 7983,
          "poblacion": 774830,
          "salud": 70.2
         },
         {
          "cluster": 1,
          "country": "Bolivia",
          "ingreso": 6295,
          "poblacion": 10724705,
          "salud": 72.3
         },
         {
          "cluster": 0,
          "country": "Bosnia and Herzegovina",
          "ingreso": 9833,
          "poblacion": 3810416,
          "salud": 77.9
         },
         {
          "cluster": 1,
          "country": "Botswana",
          "ingreso": 17196,
          "poblacion": 2262485,
          "salud": 66.4
         },
         {
          "cluster": 0,
          "country": "Brazil",
          "ingreso": 15441,
          "poblacion": 207847528,
          "salud": 75.6
         },
         {
          "cluster": 0,
          "country": "Brunei",
          "ingreso": 73003,
          "poblacion": 423188,
          "salud": 78.7
         },
         {
          "cluster": 0,
          "country": "Bulgaria",
          "ingreso": 16371,
          "poblacion": 7149787,
          "salud": 74.9
         },
         {
          "cluster": 1,
          "country": "Burkina Faso",
          "ingreso": 1654,
          "poblacion": 18105570,
          "salud": 62.8
         },
         {
          "cluster": 1,
          "country": "Burundi",
          "ingreso": 777,
          "poblacion": 11178921,
          "salud": 60.4
         },
         {
          "cluster": 1,
          "country": "Cambodia",
          "ingreso": 3267,
          "poblacion": 15577899,
          "salud": 68.4
         },
         {
          "cluster": 1,
          "country": "Cameroon",
          "ingreso": 2897,
          "poblacion": 23344179,
          "salud": 59.5
         },
         {
          "cluster": 0,
          "country": "Canada",
          "ingreso": 43294,
          "poblacion": 35939927,
          "salud": 81.7
         },
         {
          "cluster": 1,
          "country": "Cape Verde",
          "ingreso": 6514,
          "poblacion": 520502,
          "salud": 74.6
         },
         {
          "cluster": 1,
          "country": "Central African Republic",
          "ingreso": 599,
          "poblacion": 4900274,
          "salud": 53.8
         },
         {
          "cluster": 1,
          "country": "Chad",
          "ingreso": 2191,
          "poblacion": 14037472,
          "salud": 57.7
         },
         {
          "cluster": 0,
          "country": "Chile",
          "ingreso": 22465,
          "poblacion": 17948141,
          "salud": 79.3
         },
         {
          "cluster": 2,
          "country": "China",
          "ingreso": 13334,
          "poblacion": 1376048943,
          "salud": 76.9
         },
         {
          "cluster": 0,
          "country": "Colombia",
          "ingreso": 12761,
          "poblacion": 48228704,
          "salud": 75.8
         },
         {
          "cluster": 1,
          "country": "Comoros",
          "ingreso": 1472,
          "poblacion": 788474,
          "salud": 64.1
         },
         {
          "cluster": 1,
          "country": "Congo, Dem. Rep.",
          "ingreso": 809,
          "poblacion": 77266814,
          "salud": 58.3
         },
         {
          "cluster": 1,
          "country": "Congo, Rep.",
          "ingreso": 6220,
          "poblacion": 4620330,
          "salud": 61.9
         },
         {
          "cluster": 0,
          "country": "Costa Rica",
          "ingreso": 14132,
          "poblacion": 4807850,
          "salud": 80
         },
         {
          "cluster": 1,
          "country": "Cote d'Ivoire",
          "ingreso": 3491,
          "poblacion": 22701556,
          "salud": 60.33
         },
         {
          "cluster": 0,
          "country": "Croatia",
          "ingreso": 20260,
          "poblacion": 4240317,
          "salud": 78
         },
         {
          "cluster": 0,
          "country": "Cuba",
          "ingreso": 21291,
          "poblacion": 11389562,
          "salud": 78.5
         },
         {
          "cluster": 0,
          "country": "Cyprus",
          "ingreso": 29797,
          "poblacion": 1165300,
          "salud": 82.6
         },
         {
          "cluster": 0,
          "country": "Czech Republic",
          "ingreso": 29437,
          "poblacion": 10543186,
          "salud": 78.6
         },
         {
          "cluster": 0,
          "country": "Denmark",
          "ingreso": 43495,
          "poblacion": 5669081,
          "salud": 80.1
         },
         {
          "cluster": 1,
          "country": "Djibouti",
          "ingreso": 3139,
          "poblacion": 887861,
          "salud": 64.63
         },
         {
          "cluster": 0,
          "country": "Dominica",
          "ingreso": 10503,
          "poblacion": 72680,
          "salud": 74.6
         },
         {
          "cluster": 0,
          "country": "Dominican Republic",
          "ingreso": 12837,
          "poblacion": 10528391,
          "salud": 73.8
         },
         {
          "cluster": 0,
          "country": "Ecuador",
          "ingreso": 10996,
          "poblacion": 16144363,
          "salud": 75.2
         },
         {
          "cluster": 1,
          "country": "Egypt",
          "ingreso": 11031,
          "poblacion": 91508084,
          "salud": 71.3
         },
         {
          "cluster": 1,
          "country": "El Salvador",
          "ingreso": 7776,
          "poblacion": 6126583,
          "salud": 74.1
         },
         {
          "cluster": 1,
          "country": "Equatorial Guinea",
          "ingreso": 31087,
          "poblacion": 845060,
          "salud": 60.63
         },
         {
          "cluster": 1,
          "country": "Eritrea",
          "ingreso": 1129,
          "poblacion": 5227791,
          "salud": 62.9
         },
         {
          "cluster": 0,
          "country": "Estonia",
          "ingreso": 26812,
          "poblacion": 1312558,
          "salud": 76.8
         },
         {
          "cluster": 1,
          "country": "Ethiopia",
          "ingreso": 1520,
          "poblacion": 99390750,
          "salud": 63.6
         },
         {
          "cluster": 1,
          "country": "Fiji",
          "ingreso": 7925,
          "poblacion": 892145,
          "salud": 66.3
         },
         {
          "cluster": 0,
          "country": "Finland",
          "ingreso": 38923,
          "poblacion": 5503457,
          "salud": 80.8
         },
         {
          "cluster": 0,
          "country": "France",
          "ingreso": 37599,
          "poblacion": 64395345,
          "salud": 81.9
         },
         {
          "cluster": 1,
          "country": "Gabon",
          "ingreso": 18627,
          "poblacion": 1725292,
          "salud": 60.53
         },
         {
          "cluster": 1,
          "country": "Gambia",
          "ingreso": 1644,
          "poblacion": 1990924,
          "salud": 65.1
         },
         {
          "cluster": 1,
          "country": "Georgia",
          "ingreso": 7474,
          "poblacion": 3999812,
          "salud": 73.3
         },
         {
          "cluster": 0,
          "country": "Germany",
          "ingreso": 44053,
          "poblacion": 80688545,
          "salud": 81.1
         },
         {
          "cluster": 1,
          "country": "Ghana",
          "ingreso": 4099,
          "poblacion": 27409893,
          "salud": 65.5
         },
         {
          "cluster": 0,
          "country": "Greece",
          "ingreso": 25430,
          "poblacion": 10954617,
          "salud": 79.8
         },
         {
          "cluster": 1,
          "country": "Grenada",
          "ingreso": 11593,
          "poblacion": 106825,
          "salud": 71.7
         },
         {
          "cluster": 1,
          "country": "Guatemala",
          "ingreso": 7279,
          "poblacion": 16342897,
          "salud": 73.1
         },
         {
          "cluster": 1,
          "country": "Guinea",
          "ingreso": 1225,
          "poblacion": 12608590,
          "salud": 60.8
         },
         {
          "cluster": 1,
          "country": "Guinea-Bissau",
          "ingreso": 1386,
          "poblacion": 1844325,
          "salud": 53.4
         },
         {
          "cluster": 1,
          "country": "Guyana",
          "ingreso": 6816,
          "poblacion": 767085,
          "salud": 64.4
         },
         {
          "cluster": 1,
          "country": "Haiti",
          "ingreso": 1710,
          "poblacion": 10711067,
          "salud": 65.3
         },
         {
          "cluster": 1,
          "country": "Honduras",
          "ingreso": 4270,
          "poblacion": 8075060,
          "salud": 72.4
         },
         {
          "cluster": 0,
          "country": "Hungary",
          "ingreso": 24200,
          "poblacion": 9855023,
          "salud": 76.2
         },
         {
          "cluster": 0,
          "country": "Iceland",
          "ingreso": 42182,
          "poblacion": 329425,
          "salud": 82.8
         },
         {
          "cluster": 2,
          "country": "India",
          "ingreso": 5903,
          "poblacion": 1311050527,
          "salud": 66.8
         },
         {
          "cluster": 1,
          "country": "Indonesia",
          "ingreso": 10504,
          "poblacion": 257563815,
          "salud": 70.9
         },
         {
          "cluster": 0,
          "country": "Iran",
          "ingreso": 15573,
          "poblacion": 79109272,
          "salud": 78.5
         },
         {
          "cluster": 1,
          "country": "Iraq",
          "ingreso": 14646,
          "poblacion": 36423395,
          "salud": 72.1
         },
         {
          "cluster": 0,
          "country": "Ireland",
          "ingreso": 47758,
          "poblacion": 4688465,
          "salud": 80.4
         },
         {
          "cluster": 0,
          "country": "Israel",
          "ingreso": 31590,
          "poblacion": 8064036,
          "salud": 82.4
         },
         {
          "cluster": 0,
          "country": "Italy",
          "ingreso": 33297,
          "poblacion": 59797685,
          "salud": 82.1
         },
         {
          "cluster": 0,
          "country": "Jamaica",
          "ingreso": 8606,
          "poblacion": 2793335,
          "salud": 75.5
         },
         {
          "cluster": 0,
          "country": "Japan",
          "ingreso": 36162,
          "poblacion": 126573481,
          "salud": 83.5
         },
         {
          "cluster": 0,
          "country": "Jordan",
          "ingreso": 11752,
          "poblacion": 7594547,
          "salud": 78.3
         },
         {
          "cluster": 1,
          "country": "Kazakhstan",
          "ingreso": 23468,
          "poblacion": 17625226,
          "salud": 68.2
         },
         {
          "cluster": 1,
          "country": "Kenya",
          "ingreso": 2898,
          "poblacion": 46050302,
          "salud": 66.63
         },
         {
          "cluster": 1,
          "country": "Kiribati",
          "ingreso": 1824,
          "poblacion": 112423,
          "salud": 62.4
         },
         {
          "cluster": 0,
          "country": "Kuwait",
          "ingreso": 82633,
          "poblacion": 3892115,
          "salud": 80.7
         },
         {
          "cluster": 1,
          "country": "Kyrgyz Republic",
          "ingreso": 3245,
          "poblacion": 5939962,
          "salud": 69
         },
         {
          "cluster": 1,
          "country": "Lao",
          "ingreso": 5212,
          "poblacion": 6802023,
          "salud": 66.4
         },
         {
          "cluster": 0,
          "country": "Latvia",
          "ingreso": 23282,
          "poblacion": 1970503,
          "salud": 75.7
         },
         {
          "cluster": 0,
          "country": "Lebanon",
          "ingreso": 17050,
          "poblacion": 5850743,
          "salud": 78.5
         },
         {
          "cluster": 1,
          "country": "Lesotho",
          "ingreso": 2598,
          "poblacion": 2135022,
          "salud": 48.5
         },
         {
          "cluster": 1,
          "country": "Liberia",
          "ingreso": 958,
          "poblacion": 4503438,
          "salud": 63.9
         },
         {
          "cluster": 0,
          "country": "Libya",
          "ingreso": 17261,
          "poblacion": 6278438,
          "salud": 76.2
         },
         {
          "cluster": 0,
          "country": "Lithuania",
          "ingreso": 26665,
          "poblacion": 2878405,
          "salud": 75.4
         },
         {
          "cluster": 0,
          "country": "Luxembourg",
          "ingreso": 88314,
          "poblacion": 567110,
          "salud": 81.1
         },
         {
          "cluster": 0,
          "country": "Macedonia, FYR",
          "ingreso": 12547,
          "poblacion": 2078453,
          "salud": 77
         },
         {
          "cluster": 1,
          "country": "Madagascar",
          "ingreso": 1400,
          "poblacion": 24235390,
          "salud": 64.7
         },
         {
          "cluster": 1,
          "country": "Malawi",
          "ingreso": 799,
          "poblacion": 17215232,
          "salud": 60.22
         },
         {
          "cluster": 0,
          "country": "Malaysia",
          "ingreso": 24320,
          "poblacion": 30331007,
          "salud": 75.1
         },
         {
          "cluster": 0,
          "country": "Maldives",
          "ingreso": 14408,
          "poblacion": 363657,
          "salud": 79.5
         },
         {
          "cluster": 1,
          "country": "Mali",
          "ingreso": 1684,
          "poblacion": 17599694,
          "salud": 57.6
         },
         {
          "cluster": 0,
          "country": "Malta",
          "ingreso": 30265,
          "poblacion": 418670,
          "salud": 82.1
         },
         {
          "cluster": 1,
          "country": "Marshall Islands",
          "ingreso": 3661,
          "poblacion": 52993,
          "salud": 65.1
         },
         {
          "cluster": 1,
          "country": "Mauritania",
          "ingreso": 3877,
          "poblacion": 4067564,
          "salud": 65.7
         },
         {
          "cluster": 0,
          "country": "Mauritius",
          "ingreso": 18350,
          "poblacion": 1273212,
          "salud": 73.9
         },
         {
          "cluster": 0,
          "country": "Mexico",
          "ingreso": 16850,
          "poblacion": 127017224,
          "salud": 74.5
         },
         {
          "cluster": 1,
          "country": "Micronesia, Fed. Sts.",
          "ingreso": 3510,
          "poblacion": 104460,
          "salud": 67
         },
         {
          "cluster": 1,
          "country": "Moldova",
          "ingreso": 4896,
          "poblacion": 4068897,
          "salud": 72.7
         },
         {
          "cluster": 1,
          "country": "Mongolia",
          "ingreso": 11819,
          "poblacion": 2959134,
          "salud": 65.3
         },
         {
          "cluster": 0,
          "country": "Montenegro",
          "ingreso": 14833,
          "poblacion": 625781,
          "salud": 75.8
         },
         {
          "cluster": 1,
          "country": "Morocco",
          "ingreso": 7319,
          "poblacion": 34377511,
          "salud": 74.7
         },
         {
          "cluster": 1,
          "country": "Mozambique",
          "ingreso": 1176,
          "poblacion": 27977863,
          "salud": 56.4
         },
         {
          "cluster": 1,
          "country": "Myanmar",
          "ingreso": 4012,
          "poblacion": 53897154,
          "salud": 67.9
         },
         {
          "cluster": 1,
          "country": "Namibia",
          "ingreso": 10040,
          "poblacion": 2458830,
          "salud": 61
         },
         {
          "cluster": 1,
          "country": "Nepal",
          "ingreso": 2352,
          "poblacion": 28513700,
          "salud": 71.2
         },
         {
          "cluster": 0,
          "country": "Netherlands",
          "ingreso": 45784,
          "poblacion": 16924929,
          "salud": 80.6
         },
         {
          "cluster": 0,
          "country": "New Zealand",
          "ingreso": 34186,
          "poblacion": 4528526,
          "salud": 80.6
         },
         {
          "cluster": 0,
          "country": "Nicaragua",
          "ingreso": 4712,
          "poblacion": 6082032,
          "salud": 76.8
         },
         {
          "cluster": 1,
          "country": "Niger",
          "ingreso": 943,
          "poblacion": 19899120,
          "salud": 62.2
         },
         {
          "cluster": 1,
          "country": "Nigeria",
          "ingreso": 5727,
          "poblacion": 182201962,
          "salud": 61.33
         },
         {
          "cluster": 1,
          "country": "North Korea",
          "ingreso": 1390,
          "poblacion": 25155317,
          "salud": 71.4
         },
         {
          "cluster": 0,
          "country": "Norway",
          "ingreso": 64304,
          "poblacion": 5210967,
          "salud": 81.6
         },
         {
          "cluster": 0,
          "country": "Oman",
          "ingreso": 48226,
          "poblacion": 4490541,
          "salud": 75.7
         },
         {
          "cluster": 1,
          "country": "Pakistan",
          "ingreso": 4743,
          "poblacion": 188924874,
          "salud": 66.5
         },
         {
          "cluster": 0,
          "country": "Panama",
          "ingreso": 20485,
          "poblacion": 3929141,
          "salud": 78.2
         },
         {
          "cluster": 1,
          "country": "Papua New Guinea",
          "ingreso": 2529,
          "poblacion": 7619321,
          "salud": 60.6
         },
         {
          "cluster": 1,
          "country": "Paraguay",
          "ingreso": 8219,
          "poblacion": 6639123,
          "salud": 73.9
         },
         {
          "cluster": 0,
          "country": "Peru",
          "ingreso": 11903,
          "poblacion": 31376670,
          "salud": 77.5
         },
         {
          "cluster": 1,
          "country": "Philippines",
          "ingreso": 6876,
          "poblacion": 100699395,
          "salud": 70.2
         },
         {
          "cluster": 0,
          "country": "Poland",
          "ingreso": 24787,
          "poblacion": 38611794,
          "salud": 77.3
         },
         {
          "cluster": 0,
          "country": "Portugal",
          "ingreso": 26437,
          "poblacion": 10349803,
          "salud": 79.8
         },
         {
          "cluster": 0,
          "country": "Qatar",
          "ingreso": 132877,
          "poblacion": 2235355,
          "salud": 82
         },
         {
          "cluster": 0,
          "country": "Romania",
          "ingreso": 19203,
          "poblacion": 19511324,
          "salud": 76.8
         },
         {
          "cluster": 0,
          "country": "Russia",
          "ingreso": 23038,
          "poblacion": 143456918,
          "salud": 73.13
         },
         {
          "cluster": 1,
          "country": "Rwanda",
          "ingreso": 1549,
          "poblacion": 11609666,
          "salud": 66.53
         },
         {
          "cluster": 1,
          "country": "Samoa",
          "ingreso": 5558,
          "poblacion": 193228,
          "salud": 72.2
         },
         {
          "cluster": 1,
          "country": "Sao Tome and Principe",
          "ingreso": 3003,
          "poblacion": 190344,
          "salud": 68.8
         },
         {
          "cluster": 0,
          "country": "Saudi Arabia",
          "ingreso": 52469,
          "poblacion": 31540372,
          "salud": 78.1
         },
         {
          "cluster": 1,
          "country": "Senegal",
          "ingreso": 2251,
          "poblacion": 15129273,
          "salud": 66.1
         },
         {
          "cluster": 0,
          "country": "Serbia",
          "ingreso": 12908,
          "poblacion": 8850975,
          "salud": 78.1
         },
         {
          "cluster": 0,
          "country": "Seychelles",
          "ingreso": 25684,
          "poblacion": 96471,
          "salud": 73.7
         },
         {
          "cluster": 1,
          "country": "Sierra Leone",
          "ingreso": 2085,
          "poblacion": 6453184,
          "salud": 58.5
         },
         {
          "cluster": 0,
          "country": "Singapore",
          "ingreso": 80794,
          "poblacion": 5603740,
          "salud": 82.1
         },
         {
          "cluster": 0,
          "country": "Slovak Republic",
          "ingreso": 27204,
          "poblacion": 5426258,
          "salud": 76.4
         },
         {
          "cluster": 0,
          "country": "Slovenia",
          "ingreso": 28550,
          "poblacion": 2067526,
          "salud": 80.2
         },
         {
          "cluster": 1,
          "country": "Solomon Islands",
          "ingreso": 2047,
          "poblacion": 583591,
          "salud": 64.1
         },
         {
          "cluster": 1,
          "country": "Somalia",
          "ingreso": 624,
          "poblacion": 10787104,
          "salud": 58.7
         },
         {
          "cluster": 1,
          "country": "South Africa",
          "ingreso": 12509,
          "poblacion": 54490406,
          "salud": 63.72
         },
         {
          "cluster": 0,
          "country": "South Korea",
          "ingreso": 34644,
          "poblacion": 50293439,
          "salud": 80.7
         },
         {
          "cluster": 1,
          "country": "South Sudan",
          "ingreso": 3047,
          "poblacion": 12339812,
          "salud": 58
         },
         {
          "cluster": 0,
          "country": "Spain",
          "ingreso": 32979,
          "poblacion": 46121699,
          "salud": 81.7
         },
         {
          "cluster": 0,
          "country": "Sri Lanka",
          "ingreso": 10624,
          "poblacion": 20715010,
          "salud": 76.5
         },
         {
          "cluster": 0,
          "country": "St. Lucia",
          "ingreso": 9997,
          "poblacion": 184999,
          "salud": 74.5
         },
         {
          "cluster": 1,
          "country": "St. Vincent and the Grenadines",
          "ingreso": 10435,
          "poblacion": 109462,
          "salud": 72.9
         },
         {
          "cluster": 1,
          "country": "Sudan",
          "ingreso": 3975,
          "poblacion": 40234882,
          "salud": 69.5
         },
         {
          "cluster": 1,
          "country": "Suriname",
          "ingreso": 17125,
          "poblacion": 542975,
          "salud": 70.5
         },
         {
          "cluster": 1,
          "country": "Swaziland",
          "ingreso": 6095,
          "poblacion": 1286970,
          "salud": 51.5
         },
         {
          "cluster": 0,
          "country": "Sweden",
          "ingreso": 44892,
          "poblacion": 9779426,
          "salud": 82
         },
         {
          "cluster": 0,
          "country": "Switzerland",
          "ingreso": 56118,
          "poblacion": 8298663,
          "salud": 82.9
         },
         {
          "cluster": 1,
          "country": "Syria",
          "ingreso": 4637,
          "poblacion": 18502413,
          "salud": 70.26
         },
         {
          "cluster": 1,
          "country": "Tajikistan",
          "ingreso": 2582,
          "poblacion": 8481855,
          "salud": 71
         },
         {
          "cluster": 1,
          "country": "Tanzania",
          "ingreso": 2571,
          "poblacion": 53470420,
          "salud": 63.43
         },
         {
          "cluster": 0,
          "country": "Thailand",
          "ingreso": 14512,
          "poblacion": 67959359,
          "salud": 75.1
         },
         {
          "cluster": 1,
          "country": "Timor-Leste",
          "ingreso": 2086,
          "poblacion": 1184765,
          "salud": 72.4
         },
         {
          "cluster": 1,
          "country": "Togo",
          "ingreso": 1433,
          "poblacion": 7304578,
          "salud": 64.23
         },
         {
          "cluster": 1,
          "country": "Tonga",
          "ingreso": 5069,
          "poblacion": 106170,
          "salud": 70.5
         },
         {
          "cluster": 0,
          "country": "Trinidad and Tobago",
          "ingreso": 30113,
          "poblacion": 1360088,
          "salud": 71.4
         },
         {
          "cluster": 0,
          "country": "Tunisia",
          "ingreso": 11126,
          "poblacion": 11253554,
          "salud": 77.3
         },
         {
          "cluster": 0,
          "country": "Turkey",
          "ingreso": 19360,
          "poblacion": 78665830,
          "salud": 76.5
         },
         {
          "cluster": 1,
          "country": "Turkmenistan",
          "ingreso": 15865,
          "poblacion": 5373502,
          "salud": 67.9
         },
         {
          "cluster": 1,
          "country": "Uganda",
          "ingreso": 1680,
          "poblacion": 39032383,
          "salud": 60.8
         },
         {
          "cluster": 1,
          "country": "Ukraine",
          "ingreso": 8449,
          "poblacion": 44823765,
          "salud": 72.1
         },
         {
          "cluster": 0,
          "country": "United Arab Emirates",
          "ingreso": 60749,
          "poblacion": 9156963,
          "salud": 76.6
         },
         {
          "cluster": 0,
          "country": "United Kingdom",
          "ingreso": 38225,
          "poblacion": 64715810,
          "salud": 81.4
         },
         {
          "cluster": 0,
          "country": "United States",
          "ingreso": 53354,
          "poblacion": 321773631,
          "salud": 79.1
         },
         {
          "cluster": 0,
          "country": "Uruguay",
          "ingreso": 20438,
          "poblacion": 3431555,
          "salud": 77.3
         },
         {
          "cluster": 1,
          "country": "Uzbekistan",
          "ingreso": 5598,
          "poblacion": 29893488,
          "salud": 70.1
         },
         {
          "cluster": 1,
          "country": "Vanuatu",
          "ingreso": 2912,
          "poblacion": 264652,
          "salud": 65
         },
         {
          "cluster": 0,
          "country": "Venezuela",
          "ingreso": 15753,
          "poblacion": 31108083,
          "salud": 75.8
         },
         {
          "cluster": 0,
          "country": "Vietnam",
          "ingreso": 5623,
          "poblacion": 93447601,
          "salud": 76.5
         },
         {
          "cluster": 1,
          "country": "West Bank and Gaza",
          "ingreso": 4319,
          "poblacion": 4668466,
          "salud": 75.2
         },
         {
          "cluster": 1,
          "country": "Yemen",
          "ingreso": 3887,
          "poblacion": 26832215,
          "salud": 67.6
         },
         {
          "cluster": 1,
          "country": "Zambia",
          "ingreso": 4034,
          "poblacion": 16211767,
          "salud": 58.96
         },
         {
          "cluster": 1,
          "country": "Zimbabwe",
          "ingreso": 1801,
          "poblacion": 15602751,
          "salud": 60.01
         }
        ]
       },
       "repeat": {
        "column": [
         "ingreso",
         "salud",
         "poblacion"
        ],
        "row": [
         "ingreso",
         "salud",
         "poblacion"
        ]
       },
       "spec": {
        "data": {
         "name": "data-faedab3646c4ecf5880a17f5ec0c23d7"
        },
        "encoding": {
         "color": {
          "field": "cluster",
          "type": "nominal"
         },
         "x": {
          "field": {
           "repeat": "column"
          },
          "type": "quantitative"
         },
         "y": {
          "field": {
           "repeat": "row"
          },
          "type": "quantitative"
         }
        },
        "height": 150,
        "mark": "circle",
        "width": 150
       }
      },
      "image/png": "[encoded data removed]",
      "text/plain": [
       "<VegaLite 3 object>\n",
       "\n",
       "If you see this message, it means the renderer has not been properly enabled\n",
       "for the frontend that you are using. For more information, see\n",
       "https://altair-viz.github.io/user_guide/troubleshooting.html\n"
      ]
     },
     "execution_count": 25,
     "metadata": {},
     "output_type": "execute_result"
    }
   ],
   "source": [
    "alt.Chart(gapminder).mark_circle().encode(\n",
    "    alt.X(alt.repeat(\"column\"), type='quantitative'),\n",
    "    alt.Y(alt.repeat(\"row\"), type='quantitative'),\n",
    "    alt.Color('cluster:N')\n",
    ").properties(\n",
    "width=150 , \n",
    "    height=150\n",
    ").repeat(\n",
    "    row=[\"ingreso\",\"salud\",\"poblacion\"],\n",
    "    column=[\"ingreso\",\"salud\",\"poblacion\"]\n",
    ")"
   ]
  },
  {
   "cell_type": "markdown",
   "metadata": {
    "Collapsed": "true"
   },
   "source": [
    "### 4. Regla del codo (1 pto)"
   ]
  },
  {
   "cell_type": "markdown",
   "metadata": {
    "Collapsed": "false"
   },
   "source": [
    "__¿Cómo escoger la mejor cantidad de _clusters_?__\n",
    "\n",
    "En este ejercicio hemos utilizado que el número de clusters es igual a 3. El ajuste del modelo siempre será mejor al aumentar el número de clusters, pero ello no significa que el número de clusters sea el apropiado. De hecho, si tenemos que ajustar $n$ puntos, claramente tomar $n$ clusters generaría un ajuste perfecto, pero no permitiría representar si existen realmente agrupaciones de datos.\n",
    "\n",
    "Cuando no se conoce el número de clusters a priori, se utiliza la [regla del codo](https://jarroba.com/seleccion-del-numero-optimo-clusters/), que indica que el número más apropiado es aquel donde \"cambia la pendiente\" de decrecimiento de la la suma de las distancias a los clusters para cada punto, en función del número de clusters.\n",
    "\n",
    "A continuación se provee el código para el caso de clustering sobre los datos estandarizados, leídos directamente de un archivo preparado especialmente."
   ]
  },
  {
   "cell_type": "code",
   "execution_count": 26,
   "metadata": {
    "Collapsed": "false"
   },
   "outputs": [],
   "source": [
    "elbow = pd.Series(name=\"inertia\").rename_axis(index=\"k\")\n",
    "for k in range(1, 10):\n",
    "    kmeans = KMeans(n_clusters=k, random_state=42).fit(X)\n",
    "    elbow.loc[k] = kmeans.inertia_ # Inertia: Sum of distances of samples to their closest cluster center\n",
    "elbow = elbow.reset_index()"
   ]
  },
  {
   "cell_type": "code",
   "execution_count": 27,
   "metadata": {
    "Collapsed": "false"
   },
   "outputs": [
    {
     "data": {
      "application/vnd.vegalite.v3+json": {
       "$schema": "https://vega.github.io/schema/vega-lite/v3.4.0.json",
       "config": {
        "background": "white",
        "mark": {
         "tooltip": null
        },
        "view": {
         "height": 300,
         "width": 400
        }
       },
       "data": {
        "name": "data-89e8a243efd9c446b72fd93a4ddd74d3"
       },
       "datasets": {
        "data-89e8a243efd9c446b72fd93a4ddd74d3": [
         {
          "inertia": 561,
          "k": 1
         },
         {
          "inertia": 364.6264878813227,
          "k": 2
         },
         {
          "inertia": 196.34136229738849,
          "k": 3
         },
         {
          "inertia": 109.4566355852737,
          "k": 4
         },
         {
          "inertia": 80.72009578392846,
          "k": 5
         },
         {
          "inertia": 65.32820161551821,
          "k": 6
         },
         {
          "inertia": 56.22094244777031,
          "k": 7
         },
         {
          "inertia": 49.748744168068725,
          "k": 8
         },
         {
          "inertia": 43.779465204544145,
          "k": 9
         }
        ]
       },
       "encoding": {
        "x": {
         "field": "k",
         "type": "ordinal"
        },
        "y": {
         "field": "inertia",
         "type": "quantitative"
        }
       },
       "height": 600,
       "mark": {
        "point": true,
        "type": "line"
       },
       "width": 800
      },
      "image/png": "[encoded data removed]",
      "text/plain": [
       "<VegaLite 3 object>\n",
       "\n",
       "If you see this message, it means the renderer has not been properly enabled\n",
       "for the frontend that you are using. For more information, see\n",
       "https://altair-viz.github.io/user_guide/troubleshooting.html\n"
      ]
     },
     "execution_count": 27,
     "metadata": {},
     "output_type": "execute_result"
    }
   ],
   "source": [
    "alt.Chart(elbow).mark_line(point=True).encode(\n",
    "    x=\"k:O\",\n",
    "    y=\"inertia:Q\"\n",
    ").properties(\n",
    "    height=600,\n",
    "    width=800\n",
    ")"
   ]
  },
  {
   "cell_type": "markdown",
   "metadata": {
    "Collapsed": "false"
   },
   "source": [
    "__Pregunta__\n",
    "\n",
    "Considerando los datos (países) y el gráfico anterior, ¿Cuántos clusters escogerías?"
   ]
  },
  {
   "cell_type": "markdown",
   "metadata": {
    "Collapsed": "false"
   },
   "source": [
    "Dado que tenemos 9 cluster graficados, me inclino por el 4, pues es un numero que presenta un cambio significativo de la pendiente y a la vez, no esta tan cerca del numero máximo (en este caso 10)"
   ]
  },
  {
   "cell_type": "code",
   "execution_count": null,
   "metadata": {},
   "outputs": [],
   "source": []
  }
 ],
 "metadata": {
  "celltoolbar": "Slideshow",
  "kernelspec": {
   "display_name": "Python 3",
   "language": "python",
   "name": "python3"
  },
  "language_info": {
   "codemirror_mode": {
    "name": "ipython",
    "version": 3
   },
   "file_extension": ".py",
   "mimetype": "text/x-python",
   "name": "python",
   "nbconvert_exporter": "python",
   "pygments_lexer": "ipython3",
   "version": "3.7.3"
  }
 },
 "nbformat": 4,
 "nbformat_minor": 4
}
